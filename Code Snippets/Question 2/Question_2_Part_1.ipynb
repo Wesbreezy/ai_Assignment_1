{
 "cells": [
  {
   "cell_type": "markdown",
   "metadata": {},
   "source": [
    "# Imports"
   ]
  },
  {
   "cell_type": "code",
   "execution_count": 1,
   "metadata": {},
   "outputs": [],
   "source": [
    "import random\n",
    "import matplotlib.pyplot as plt\n",
    "from scipy.spatial import distance"
   ]
  },
  {
   "cell_type": "markdown",
   "metadata": {},
   "source": [
    "# Class"
   ]
  },
  {
   "cell_type": "code",
   "execution_count": 2,
   "metadata": {},
   "outputs": [],
   "source": [
    "class City:\n",
    "    def __init__(self, name, x, y):\n",
    "        self.name = name\n",
    "        self.x = x\n",
    "        self.y = y"
   ]
  },
  {
   "cell_type": "markdown",
   "metadata": {},
   "source": [
    "# Problem Presentation"
   ]
  },
  {
   "cell_type": "code",
   "execution_count": 3,
   "metadata": {},
   "outputs": [],
   "source": [
    "windhoek_west = City(\"Windhoek West\", 0, 0)\n",
    "eros = City(\"Eros\", 1, 2)\n",
    "havana = City(\"Havana\", 3, 1)\n",
    "otjomuise = City(\"Otjomuise\", 2, 3)\n",
    "\n",
    "cities = [windhoek_west, eros, havana, otjomuise]\n",
    "\n",
    "# Calculate total distance of a given route\n",
    "def calculate_total_distance(route):\n",
    "    total_distance = 0.0\n",
    "    for i in range(len(route) - 1):\n",
    "        city = route[i]\n",
    "        next_city = route[i + 1]\n",
    "        total_distance += distance.euclidean((city.x, city.y), (next_city.x, next_city.y))\n",
    "    return total_distance "
   ]
  },
  {
   "cell_type": "markdown",
   "metadata": {},
   "source": [
    "# Hill Climbing Algorithm"
   ]
  },
  {
   "cell_type": "code",
   "execution_count": 4,
   "metadata": {},
   "outputs": [],
   "source": [
    "def generate_initial_route(places):\n",
    "    route = places[:]\n",
    "    random.shuffle(route)\n",
    "    return route\n",
    "\n",
    "def get_neighbour(route):\n",
    "    i, j = random.sample(range(len(route)), 2)\n",
    "    new_route = route[:]\n",
    "    new_route[i], new_route[j] = new_route[j], new_route[i]\n",
    "    return new_route\n",
    "\n",
    "\n",
    "def hill_climbing(places, max_iterations):\n",
    "    current_route = generate_initial_route(places)\n",
    "    current_distance = calculate_total_distance(current_route)\n",
    "\n",
    "    for _ in range(max_iterations):\n",
    "        neighbour = get_neighbour(current_route)\n",
    "        neighbour_distance = calculate_total_distance(neighbour)\n",
    "\n",
    "        if neighbour_distance < current_distance:\n",
    "            current_route = neighbour\n",
    "            current_distance = neighbour_distance\n",
    "        else:\n",
    "            break\n",
    "\n",
    "    return current_route, current_distance\n",
    "\n",
    "max_iterations = 1000\n",
    "num_routes = 5\n",
    "\n",
    "best_routes = []\n",
    "best_distances = []\n",
    "\n",
    "for _ in range(num_routes):\n",
    "    best_route, best_distance = hill_climbing(cities, max_iterations)\n",
    "    best_routes.append(best_route)\n",
    "    best_distances.append(best_distance)"
   ]
  }
 ],
 "metadata": {
  "kernelspec": {
   "display_name": "base",
   "language": "python",
   "name": "python3"
  },
  "language_info": {
   "codemirror_mode": {
    "name": "ipython",
    "version": 3
   },
   "file_extension": ".py",
   "mimetype": "text/x-python",
   "name": "python",
   "nbconvert_exporter": "python",
   "pygments_lexer": "ipython3",
   "version": "3.11.3"
  }
 },
 "nbformat": 4,
 "nbformat_minor": 2
}
