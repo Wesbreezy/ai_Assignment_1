{
 "cells": [
  {
   "cell_type": "markdown",
   "metadata": {},
   "source": [
    "# Analysis and Comparison"
   ]
  },
  {
   "cell_type": "code",
   "execution_count": null,
   "metadata": {},
   "outputs": [],
   "source": [
    "#Find the optimal distance and  Best distance\n",
    "optimal_distance = calculate_total_distance(cities)\n",
    "print(\"Optimal distance:\", optimal_distance)\n",
    "for i in range(num_routes):\n",
    "    print(\"Best distance found in route\", i+1, \":\", best_distances[i])"
   ]
  },
  {
   "cell_type": "markdown",
   "metadata": {},
   "source": [
    "# Visualization"
   ]
  },
  {
   "cell_type": "code",
   "execution_count": null,
   "metadata": {},
   "outputs": [],
   "source": [
    "def plot_routes(routes):\n",
    "    plt.figure(figsize=(6, 6))\n",
    "    for i, route in enumerate(routes):\n",
    "        x = [city.x for city in route] + [route[0].x]\n",
    "        y = [city.y for city in route] + [route[0].y]\n",
    "        plt.plot(x, y, 'o-')\n",
    "        for city in route:\n",
    "            plt.annotate(city.name, (city.x, city.y), textcoords=\"offset points\", xytext=(0,10), ha='center')\n",
    "    plt.title(\"TSP Routes\")\n",
    "    plt.xlabel(\"X\")\n",
    "    plt.ylabel(\"Y\")\n",
    "    plt.grid(True)\n",
    "    plt.show()\n",
    "\n",
    "plot_routes(best_routes)"
   ]
  }
 ],
 "metadata": {
  "kernelspec": {
   "display_name": "Python 3 (ipykernel)",
   "language": "python",
   "name": "python3"
  },
  "language_info": {
   "codemirror_mode": {
    "name": "ipython",
    "version": 3
   },
   "file_extension": ".py",
   "mimetype": "text/x-python",
   "name": "python",
   "nbconvert_exporter": "python",
   "pygments_lexer": "ipython3",
   "version": "3.11.7"
  }
 },
 "nbformat": 4,
 "nbformat_minor": 4
}
