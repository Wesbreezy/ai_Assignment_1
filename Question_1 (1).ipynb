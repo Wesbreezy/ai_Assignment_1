{
  "metadata": {
    "kernelspec": {
      "name": "python",
      "display_name": "Python (Pyodide)",
      "language": "python"
    },
    "language_info": {
      "codemirror_mode": {
        "name": "python",
        "version": 3
      },
      "file_extension": ".py",
      "mimetype": "text/x-python",
      "name": "python",
      "nbconvert_exporter": "python",
      "pygments_lexer": "ipython3",
      "version": "3.8"
    }
  },
  "nbformat_minor": 4,
  "nbformat": 4,
  "cells": [
    {
      "cell_type": "markdown",
      "source": "# 1. Modelling the Environment\n\n- Design a suitable representation for the robot's environment. Consider using a grid-based map where each cell represents a small area of the floor.\n- Define states as specific grid cells that the robot can occupy.\n- Identify possible actions the robot can take, such as moving forward, backward, turning left, or turning right (considering the robot's movement limitations).",
      "metadata": {}
    },
    {
      "cell_type": "code",
      "source": "class Environment:\n\n# Function to create the grid environment.\ndef __init__(self, width, height):\n        self.width = width\n        self.height = height\n        self.grid = [[0 for _ in range(width)] for _ in range(height)]\n        self.robot_x = None\n        self.robot_y = None\n        self.obstacles = []\n\n# Function to set the  robot's position on the grid.\n    def set_robot_position(self, x, y):\n        if self.robot_x is not None and self.robot_y is not None:\n            self.grid[self.robot_y][self.robot_x] = 0\n        self.robot_x = x\n        self.robot_y = y\n        self.grid[self.robot_y][self.robot_x] = \"R\"\n\n# Functions to add Obstacles, Cleaning Target, Charging Station and Robot to the environment. \n    def add_obstacle(self, x, y):\n        self.obstacles.append((x, y))\n        self.grid[y][x] = \"O\"\n        \n    def add_cleaning_target(self, x, y):\n        self.grid[y][x] = \"T\"\n\n    def add_charging_station(self, x, y):\n        self.grid[y][x] = \"C\"\n\n    def add_carpet(self, top_left_x, top_left_y, bottom_right_x, bottom_right_y):\n        for y in range(top_left_y, bottom_right_y + 1):\n            for x in range(top_left_x, bottom_right_x + 1):\n                self.grid[y][x] = \"W\"\n\n# Movement for Cleaning Robot\n    def move_forward(self):\n        if self.robot_y > 0 and self.grid[self.robot_y - 1][self.robot_x] != \"O\":\n            self.set_robot_position(self.robot_x, self.robot_y - 1)\n\n    def move_backward(self):\n        if self.robot_y < self.height - 1 and self.grid[self.robot_y + 1][self.robot_x] != \"O\":\n            self.set_robot_position(self.robot_x, self.robot_y + 1)\n\n    def turn_left(self):\n        if self.robot_x > 0 and self.grid[self.robot_y][self.robot_x - 1] != \"O\":\n            self.set_robot_position(self.robot_x - 1, self.robot_y)\n\n    def turn_right(self):\n        if self.robot_x < self.width - 1 and self.grid[self.robot_y][self.robot_x + 1] != \"O\":\n            self.set_robot_position(self.robot_x + 1, self.robot_y)",
      "metadata": {
        "trusted": true
      },
      "outputs": [],
      "execution_count": null
    },
    {
      "cell_type": "markdown",
      "source": "- *Environment* class represents the home environment of the cleaning robot.\n- The *grid* attribute is a 2D list representing the floor plan of the room, where each element in the grid corresponds to one square meter of the floor. All cells are maked as empty(0).\n- The methods *obstacle*, *cleaning_target* and *charging_station* are used to represent the obstacles to avoid, taget to clean and the charging station repectively.\n- The methods *carpet* is used to represent the  carpet area, which requires more energy from the cleaning robot to traverse.\n- You can create an instance of the Environment class with the desired width and height and then add obstacles, cleaning targets and charging stations as needed.",
      "metadata": {}
    },
    {
      "cell_type": "markdown",
      "source": "# 2. Cost Function and Heuristic\n\n- Define a cost function that assigns a cost value to each action the robot takes. This could be a simple unit cost for each movement or consider factors like the type of terrain (carpet vs. hardwood) or energy expenditure for turns.\n- Design a heuristic function h(x) that estimates the remaining distance for the robot to reach the cleaning target (represented by another specific grid cell). A simple option might be the Manhattan distance between the robot's current cell and the target cell, ignoring obstacles. However, explore a more sophisticated heuristic that considers the actual obstacles in the environment, penalising paths that would require the robot to navigate around them extensively.",
      "metadata": {}
    },
    {
      "cell_type": "code",
      "source": "# Cost Function\ndef cost_function(self, action):\n    if action == \"move_forward\" or action == \"move_backward\":\n        if self == \"W\":\n            return 2 # Higher cost for moving on carpet\n        elif self == 0:\n            return 1 # Cost for moving on hardwood floor\n        elif self == 1:\n            return float('inf') #  Infinite cost for moving into an obstacle or wall - no movement possible\n        return 1\n    elif action == \"turn_left\" or action == \"turn_right\":\n        return 0.5 # Cost for turning left or turning right\n\n# Simple Heuristic Function\ndef simpleh(self, target_x, target_y):\n    direct_to_target = abs(target_x - self.robot_x) + abs(target_y - self.robot_y)\n    return  direct_to_target\n\n# Advanced Heuristic Function\ndef advancedh(self, target_x, target_y):\n    distance_to_target = abs(target_x - self.robot_x) + abs(target_y - self.robot_y) # Manhattan Distance from current position to target position\n    obstacles = sum(row.count(\"O\") for row in self.grid) # For cleaning robot to consider obstacles and walls\n    distance_to_target -= obstacles # Subtract 1 for each obstacle encountered for the robot to avoid\n    carpet_area = sum(row.count(\"w\") for row in self.grid)\n    distance_to_target -= carpet_area+2 # Add 2 to account for the fact that the robot is already on a carpet square\n    return distance_to_target",
      "metadata": {
        "trusted": true
      },
      "outputs": [],
      "execution_count": 31
    },
    {
      "cell_type": "markdown",
      "source": "#  3. A Implementation and Testing\n\n- Implement the A* search algorithm to find the optimal path for the robot to navigate from its starting position to clean every cell in the environment and finally reach the charging station (another designated cell).\n- Test your implementation on various environments with different obstacle layouts and target locations.\n- Analyse the impact of the chosen heuristic function on the efficiency of the robot's path. Compare the path lengths and total costs with the simple Manhattan distance heuristic vs. the more sophisticated obstacle-aware heuristic.",
      "metadata": {}
    },
    {
      "cell_type": "code",
      "source": "from queue import PriorityQueue\n\n# A Star Search Algorithm Class\nclass AStarSearch:\n    # Initialize A Star Search object with the environment\n    def __init__(self, environment):\n        self.environment = environment\n        \n# Calculate Manhattan Distance from current position to target position IGNORING OBSTACLES\n    def simpleh(self, target_x, target_y):\n        direct_to_target = abs(target_x - self.robot_x) + abs(target_y - self.robot_y)\n        return  direct_to_target\n\n# Initialize priority queue\n    def a_star_search(self, target_x, target_y):\n        open_set = PriorityQueue()\n        open_set.put((0, (self.environment.robot_x, self.environment.robot_y))) # Put the starting position in the open set with a priority of 0\n        came_from = {} # Dictionary to store the path\n        g_score = { (self.environment.robot_x, self.environment.robot_y): 0 } # Dictionary to store g scores\n\n        # Loop until open set is empty\n        while not open_set.empty():\n            current = open_set.get()[1]\n\n            if current[0] == target_x and current[1] == target_y:\n                path = []\n\n                while current in came_from:\n                    path.append(current)\n                    current = came_from[current]\n                return path[::-1]  # Reverse path to get from start to end\n\n            # Iterate over possible movements: up, down, right, left\n            for action in [(0, 1), (0, -1), (1, 0), (-1, 0)]:\n                new_x, new_y = current[0] + action[0], current[1] + action[1]\n\n                # Check if new position is within bounds\n                if 0 <= new_x < self.environment.width and 0 <= new_y < self.environment.height:\n                    tentative_g_score = g_score[current] + 1  # Cost of movement is 1\n\n                    # Check if the new position has not been visited or the new path is better\n\n                    if (new_x, new_y) not in g_score or tentative_g_score < g_score[(new_x, new_y)]:\n                        came_from[(new_x, new_y)] = current # Update the path and g score for the new position\n                        g_score[(new_x, new_y)] = tentative_g_score\n                        f_score = tentative_g_score + self.heuristic(new_x, new_y, target_x, target_y)\n                        open_set.put((f_score, (new_x, new_y)))  # Calculate the f score for the new position and add it to the open set",
      "metadata": {
        "trusted": true
      },
      "outputs": [],
      "execution_count": 32
    },
    {
      "cell_type": "code",
      "source": "",
      "metadata": {},
      "outputs": [],
      "execution_count": null
    },
    {
      "cell_type": "markdown",
      "source": "## 3.2 Envirnoments\n\n",
      "metadata": {}
    },
    {
      "cell_type": "code",
      "source": "from queue import PriorityQueue\nimport matplotlib.pyplot as plt\nimport numpy as np\n\n\n# Simple Environment\nenv1 = Environment(width=10, height=10)\nenv1.set_robot_position(0, 0)\nenv1.add_obstacle(5, 5)  # One obstacle\nenv1.add_cleaning_target(9, 9)  # Cleaning target\nenv1.add_charging_station(0, 9)  # Charging station\n\n# Complex Environment\nenv2 = Environment(width=10, height=10)\nenv2.set_robot_position(0, 0)\nenv2.add_obstacle(3, 3)  # Obstacle 1\nenv2.add_obstacle(5, 2)  # Obstacle 2\nenv2.add_obstacle(7, 7)  # Obstacle 3\nenv2.add_cleaning_target(9, 9)  # Cleaning target\nenv2.add_charging_station(0, 9)  # Charging station\nenv2.add_carpet(2, 2, 6, 6)  # Carpeting\n\n# Advanced Environment\nenv3 = Environment(width=20, height=20)\nenv3.set_robot_position(0, 0)\nenv3.add_obstacle(3, 3)  # Obstacle 1\nenv3.add_obstacle(5, 6)  # Obstacle 2\nenv3.add_obstacle(10, 10)  # Obstacle 3\nenv3.add_obstacle(15, 15)  # Obstacle 4\nenv3.add_obstacle(7, 15)  # Obstacle 5\nenv3.add_obstacle(12, 5)  # Obstacle 6\nenv3.add_obstacle(17, 4)  # Obstacle 7\nenv3.add_obstacle(7, 3)  # Obstacle 8\nenv3.add_cleaning_target(19, 19)  # Cleaning target\nenv3.add_charging_station(0, 19)  # Charging station\nenv3.add_carpet(5, 5, 14, 14)  # Carpeting\n\ndef visualize_environment(env):\n    grid = np.array(env.grid)\n    plt.figure(figsize=(5, 5))\n    plt.imshow(np.where(grid == \"O\", 0.5, np.where(grid == \"T\", 0.25, np.where(grid == \"C\", 0.75, 1))), cmap='gray')\n    plt.xticks([])\n    plt.yticks([])\n    plt.show()\n\n# Visualize the environments\nvisualize_environment(env1)\nvisualize_environment(env2)\nvisualize_environment(env3)",
      "metadata": {
        "trusted": true
      },
      "outputs": [
        {
          "output_type": "display_data",
          "data": {
            "text/plain": "<Figure size 500x500 with 1 Axes>",
            "image/png": "[encoded data removed]"
          },
          "metadata": {}
        },
        {
          "output_type": "display_data",
          "data": {
            "text/plain": "<Figure size 500x500 with 1 Axes>",
            "image/png": "[encoded data removed]"
          },
          "metadata": {}
        },
        {
          "output_type": "display_data",
          "data": {
            "text/plain": "<Figure size 500x500 with 1 Axes>",
            "image/png": "[encoded data removed]"
          },
          "metadata": {}
        }
      ],
      "execution_count": 41
    },
    {
      "cell_type": "code",
      "source": "from queue import PriorityQueue\nimport matplotlib.pyplot as plt\nimport numpy as np\n\nclass Environment:\n    def manhattan(self, target_x, target_y, obstacles):\n        return abs(target_x - self.robot_x) + abs(target_y - self.robot_y) + len(obstacles)\n\n    def a_star_search(self, target_x, target_y):\n        frontier = PriorityQueue()\n        start_node = (self.robot_x, self.robot_y, 0, [])\n        frontier.put((0, start_node))\n        explored = set()\n\n        while not frontier.empty():\n            _, node = frontier.get()\n            x, y, cost_so_far, path = node\n\n            if (x, y) == (target_x, target_y):\n                return path\n\n            if (x, y) in explored:\n                continue\n\n            explored.add((x, y))\n\n            actions = [\"move_forward\", \"move_backward\", \"turn_left\", \"turn_right\"]\n\n            for action in actions:\n                new_cost = cost_so_far + self.cost(action)\n                if action == \"move_forward\":\n                    new_x, new_y = x, y - 1\n                elif action == \"move_backward\":\n                    new_x, new_y = x, y + 1\n                elif action == \"turn_left\":\n                    new_x, new_y = x - 1, y\n                elif action == \"turn_right\":\n                    new_x, new_y = x + 1, y\n\n                if 0 <= new_x < self.width and 0 <= new_y < self.height and self.grid[new_y][new_x] != \"O\":\n                    new_path = path + [action]\n                    priority = new_cost + self.heuristic(target_x, target_y, new_path)\n                    frontier.put((priority, (new_x, new_y, new_cost, new_path)))\n\n        return None\n    \n",
      "metadata": {
        "trusted": true
      },
      "outputs": [],
      "execution_count": 42
    },
    {
      "cell_type": "markdown",
      "source": "",
      "metadata": {}
    }
  ]
}